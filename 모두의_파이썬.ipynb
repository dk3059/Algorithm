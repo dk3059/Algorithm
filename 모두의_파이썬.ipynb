{
  "nbformat": 4,
  "nbformat_minor": 0,
  "metadata": {
    "colab": {
      "name": "모두의 파이썬.ipynb",
      "provenance": [],
      "authorship_tag": "ABX9TyPH9vy4Hp91YYuOEQttqajy",
      "include_colab_link": true
    },
    "kernelspec": {
      "name": "python3",
      "display_name": "Python 3"
    },
    "language_info": {
      "name": "python"
    }
  },
  "cells": [
    {
      "cell_type": "markdown",
      "metadata": {
        "id": "view-in-github",
        "colab_type": "text"
      },
      "source": [
        "<a href=\"https://colab.research.google.com/github/dk3059/Algorithm/blob/main/%EB%AA%A8%EB%91%90%EC%9D%98_%ED%8C%8C%EC%9D%B4%EC%8D%AC.ipynb\" target=\"_parent\"><img src=\"https://colab.research.google.com/assets/colab-badge.svg\" alt=\"Open In Colab\"/></a>"
      ]
    },
    {
      "cell_type": "markdown",
      "metadata": {
        "id": "RXZ5-HuKl3XZ"
      },
      "source": [
        "[return 참고자료](https://rfriend.tistory.com/365)"
      ]
    },
    {
      "cell_type": "markdown",
      "metadata": {
        "id": "iJu1Qck2jurT"
      },
      "source": [
        "### 재귀 호출\n",
        "\n",
        "\n"
      ]
    },
    {
      "cell_type": "code",
      "metadata": {
        "colab": {
          "base_uri": "https://localhost:8080/"
        },
        "id": "dGM3SeJyjhlQ",
        "outputId": "371287dc-b659-4edf-f5ee-a6f4d534c8b0"
      },
      "source": [
        "# 최댓값 구하기\n",
        "\n",
        "v = [10, 500, 200, 300, 700]\n",
        "\n",
        "def max_num(n, v):\n",
        "  if n <= 1:\n",
        "    return v[0]\n",
        "\n",
        "  else :\n",
        "    if (v[n-1] > max_num(n-1, v)):\n",
        "      return v[n-1]\n",
        "    else:\n",
        "        return max_num(n-1, v)\n",
        "\n",
        "\n",
        "max_num(len(v), v)"
      ],
      "execution_count": 1,
      "outputs": [
        {
          "output_type": "execute_result",
          "data": {
            "text/plain": [
              "700"
            ]
          },
          "metadata": {
            "tags": []
          },
          "execution_count": 1
        }
      ]
    },
    {
      "cell_type": "code",
      "metadata": {
        "colab": {
          "base_uri": "https://localhost:8080/"
        },
        "id": "tZP9Qlw9jnHM",
        "outputId": "0dd408b0-0284-45dc-c624-735f1b0aaeb3"
      },
      "source": [
        "# 피보나치 수열 구하기\n",
        "\n",
        "def fiv(n):\n",
        "  if n <= 1:\n",
        "    return n\n",
        "  return fiv(n-2) + fiv(n-1)\n",
        "\n",
        "fiv(10)"
      ],
      "execution_count": 3,
      "outputs": [
        {
          "output_type": "execute_result",
          "data": {
            "text/plain": [
              "55"
            ]
          },
          "metadata": {
            "tags": []
          },
          "execution_count": 3
        }
      ]
    },
    {
      "cell_type": "markdown",
      "metadata": {
        "id": "QkM_NWBUk6K9"
      },
      "source": [
        "### 순차탐색"
      ]
    },
    {
      "cell_type": "code",
      "metadata": {
        "colab": {
          "base_uri": "https://localhost:8080/"
        },
        "id": "y5kCy8YbjpMW",
        "outputId": "3e7f3db4-e677-47a4-fcb3-3ed4bc298848"
      },
      "source": [
        "# 특정 숫자의 위치 찾기(1)\n",
        "\n",
        "def search_list(v, x):\n",
        "  n = len(v)\n",
        "  for i in range(0, n):\n",
        "    if v[i] == x :\n",
        "      return (i, x)\n",
        "  return -1\n",
        "\n",
        "v = [17, 92, 18, 33]\n",
        "\n",
        "search_list(v, 92)"
      ],
      "execution_count": 12,
      "outputs": [
        {
          "output_type": "execute_result",
          "data": {
            "text/plain": [
              "(1, 92)"
            ]
          },
          "metadata": {
            "tags": []
          },
          "execution_count": 12
        }
      ]
    },
    {
      "cell_type": "code",
      "metadata": {
        "colab": {
          "base_uri": "https://localhost:8080/"
        },
        "id": "o6QyOAHBlXaP",
        "outputId": "db3239fa-30c2-4aee-d83c-705da8cd055b"
      },
      "source": [
        "# 특정 숫자의 위치 찾기(2)\n",
        "\n",
        "def search_list(v, x):\n",
        "  n = len(v)\n",
        "  same = []\n",
        "  for i in range(0, n):\n",
        "    if v[i] == x :\n",
        "      same.append(i)\n",
        "  return same\n",
        "\n",
        "v = [17, 92, 18, 33, 92]\n",
        "\n",
        "search_list(v, 92)"
      ],
      "execution_count": 14,
      "outputs": [
        {
          "output_type": "execute_result",
          "data": {
            "text/plain": [
              "[1, 4]"
            ]
          },
          "metadata": {
            "tags": []
          },
          "execution_count": 14
        }
      ]
    },
    {
      "cell_type": "code",
      "metadata": {
        "colab": {
          "base_uri": "https://localhost:8080/"
        },
        "id": "aOftKnl3mUhT",
        "outputId": "f6472593-3272-4cd7-f2dd-c7c3ccd44821"
      },
      "source": [
        "# 해당하는 학생 번호 찾기\n",
        "def serch_no(s_no, s_name, f_name):\n",
        "  n = len(s_name)\n",
        "  num = []\n",
        "  for i in range(0, n):\n",
        "    if s_name[i] == f_name:\n",
        "      num.append(s_no[i])\n",
        "  return num\n",
        "\n",
        "stu_no = [39, 14, 67, 105, 10]\n",
        "stu_name = [\"Justin\", \"John\", \"Mike\", \"Summer\", \"Justin\"]\n",
        "serch_no(stu_no, stu_name, \"Justin\")\n"
      ],
      "execution_count": 17,
      "outputs": [
        {
          "output_type": "execute_result",
          "data": {
            "text/plain": [
              "[39, 10]"
            ]
          },
          "metadata": {
            "tags": []
          },
          "execution_count": 17
        }
      ]
    },
    {
      "cell_type": "markdown",
      "metadata": {
        "id": "y9_Soztssamu"
      },
      "source": [
        "### 선택정렬"
      ]
    },
    {
      "cell_type": "code",
      "metadata": {
        "colab": {
          "base_uri": "https://localhost:8080/"
        },
        "id": "CivIpscOqpDj",
        "outputId": "a9020fb9-c76f-4c25-850a-9120b819ea74"
      },
      "source": [
        "def find_min(x):\n",
        "  n = len(x)\n",
        "  min_idx = 0\n",
        "  for i in range(1, n):\n",
        "    if x[min_idx] > x[i]:\n",
        "      min_idx = i\n",
        "  return min_idx\n",
        "\n",
        "\n",
        "def sort_num(x):\n",
        "  sort = []\n",
        "  while x:\n",
        "    min_idx = find_min(x)\n",
        "    min_num = x.pop(min_idx) #리스트에서 주어진 위치에 있는 항목을 삭제하고 돌려줌 (인덱스를 지정하지 않으면, 리스트의 마지막 항목)\n",
        "    sort.append(min_num)\n",
        "  return sort\n",
        "\n",
        "\n",
        "d = [1, 5, 4, 8, 3]\n",
        "\n",
        "sort_num(d)"
      ],
      "execution_count": 18,
      "outputs": [
        {
          "output_type": "execute_result",
          "data": {
            "text/plain": [
              "[1, 3, 4, 5, 8]"
            ]
          },
          "metadata": {
            "tags": []
          },
          "execution_count": 18
        }
      ]
    },
    {
      "cell_type": "code",
      "metadata": {
        "colab": {
          "base_uri": "https://localhost:8080/"
        },
        "id": "PQEDgiQluJpt",
        "outputId": "7f81319d-f3a4-42c5-9b1e-b45c19e39528"
      },
      "source": [
        "def find_min(x):\n",
        "  n = len(x)\n",
        "\n",
        "  for i in range(0, n-1):\n",
        "    min_idx = i\n",
        "    for j in range(i+1, n):\n",
        "      if x[min_idx] > x[j]:\n",
        "        min_idx = j\n",
        "    x[i], x[min_idx] = x[min_idx], x[i]\n",
        "  return x\n",
        "\n",
        "\n",
        "\n",
        "d = [1, 5, 4, 8, 3]\n",
        "\n",
        "find_min(d)"
      ],
      "execution_count": 28,
      "outputs": [
        {
          "output_type": "execute_result",
          "data": {
            "text/plain": [
              "[1, 3, 4, 5, 8]"
            ]
          },
          "metadata": {
            "tags": []
          },
          "execution_count": 28
        }
      ]
    },
    {
      "cell_type": "code",
      "metadata": {
        "colab": {
          "base_uri": "https://localhost:8080/"
        },
        "id": "FAbbzlAlwEoS",
        "outputId": "ebfc7f90-8415-42f9-dc78-9578fa56e0c0"
      },
      "source": [
        "def find_max(x):\n",
        "  n = len(x)\n",
        "\n",
        "  for i in range(0, n-1):\n",
        "    max_idx = i\n",
        "    for j in range(i+1, n):\n",
        "      if x[max_idx] < x[j]:\n",
        "        max_idx = j\n",
        "    x[i], x[max_idx] = x[max_idx], x[i]\n",
        "  return x\n",
        "\n",
        "d = [1, 5, 4, 8, 3]\n",
        "find_max(d)"
      ],
      "execution_count": 34,
      "outputs": [
        {
          "output_type": "execute_result",
          "data": {
            "text/plain": [
              "[8, 5, 4, 3, 1]"
            ]
          },
          "metadata": {
            "tags": []
          },
          "execution_count": 34
        }
      ]
    },
    {
      "cell_type": "code",
      "metadata": {
        "id": "_xeMZwvH1z2S"
      },
      "source": [
        ""
      ],
      "execution_count": null,
      "outputs": []
    }
  ]
}